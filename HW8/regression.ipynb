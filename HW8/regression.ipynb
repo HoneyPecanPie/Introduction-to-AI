{
 "cells": [
  {
   "cell_type": "code",
   "execution_count": 1,
   "metadata": {},
   "outputs": [],
   "source": [
    "import numpy as np\n",
    "import random\n",
    "import csv\n",
    "\n",
    "# Feel free to import other packages, if needed.\n",
    "# As long as they are supported by CSL machines."
   ]
  },
  {
   "cell_type": "code",
   "execution_count": 2,
   "metadata": {},
   "outputs": [],
   "source": [
    "def get_dataset(filename):\n",
    "    file = open(filename, encoding='utf-8')\n",
    "    file_reader = csv.reader(file)\n",
    "    dataset = list(file_reader)\n",
    "    file.close()\n",
    "    dataset = dataset[1:]\n",
    "    for data in dataset:\n",
    "        data.pop(0)\n",
    "        for i in range(len(data)):\n",
    "            data[i] = float(data[i])\n",
    "    return np.array(dataset).reshape(len(dataset),len(dataset[0]))"
   ]
  },
  {
   "cell_type": "code",
   "execution_count": 3,
   "metadata": {},
   "outputs": [],
   "source": [
    "def print_stats(dataset, col):\n",
    "    num = len(dataset)\n",
    "    data_sum = 0\n",
    "    for data in dataset:\n",
    "        data_sum += data[col]\n",
    "    avg = data_sum / num\n",
    "    deviation = 0\n",
    "    for data in dataset:\n",
    "        deviation += (data[col] - avg)**2 \n",
    "    sd = (deviation / (num -1))**0.5\n",
    "    print('{}\\n{:.2f}\\n{:.2f}'.format(num,avg,sd))\n",
    "    return None"
   ]
  },
  {
   "cell_type": "code",
   "execution_count": 4,
   "metadata": {},
   "outputs": [],
   "source": [
    "def regression(dataset, cols, betas):\n",
    "    mse =0\n",
    "    betas = np.array(betas).reshape(len(betas),1)\n",
    "    for data in dataset:\n",
    "        col_value = []\n",
    "        for i in cols:\n",
    "            col_value.append(data[i])\n",
    "        col_value.insert(0,1)\n",
    "        col_value = np.array(col_value)\n",
    "        mse += (np.dot(col_value,betas) - data[0])**2\n",
    "    return float(mse / len(dataset))"
   ]
  },
  {
   "cell_type": "code",
   "execution_count": 5,
   "metadata": {},
   "outputs": [],
   "source": [
    "def gradient_descent(dataset, cols, betas):\n",
    "    beta = []\n",
    "    betas = np.array(betas).reshape(len(betas),1)\n",
    "    for b in range(len(betas)):\n",
    "        gd = 0\n",
    "        for data in dataset:\n",
    "            col_value = []\n",
    "            for i in cols:\n",
    "                col_value.append(data[i])\n",
    "            col_value.insert(0,1)\n",
    "            col_value = np.array(col_value)\n",
    "            gd += (np.dot(col_value,betas) - data[0])*col_value[b]\n",
    "        gd = gd*2 / len(dataset)\n",
    "        beta.append(float(gd))\n",
    "    return np.array(beta)"
   ]
  },
  {
   "cell_type": "code",
   "execution_count": 6,
   "metadata": {},
   "outputs": [],
   "source": [
    "def iterate_gradient(dataset, cols, betas, T, eta):\n",
    "    t = 1\n",
    "    while t <= T:\n",
    "        gradients = gradient_descent(dataset, cols, betas)\n",
    "        for i in range(len(betas)):\n",
    "            betas[i] = betas[i] - eta * gradients[i]\n",
    "        mse = regression(dataset, cols, betas)\n",
    "        print('{} {:.2f}'.format(t,mse), end = ' ')\n",
    "        for beta in betas:\n",
    "            print('{:.2f}'.format(beta), end = ' ')\n",
    "        print('\\n',end = '')\n",
    "        t += 1\n",
    "    return None"
   ]
  },
  {
   "cell_type": "code",
   "execution_count": 7,
   "metadata": {},
   "outputs": [],
   "source": [
    "def compute_betas(dataset, cols):\n",
    "    X = []\n",
    "    y = []\n",
    "    for data in dataset:\n",
    "        col_value = [1]\n",
    "        y.append(data[0])\n",
    "        for i in cols:\n",
    "            col_value.append(data[i])\n",
    "        X.append(col_value)\n",
    "    X = np.array(X)\n",
    "    y = np.array(y).reshape(len(dataset),1)\n",
    "    betas = np.dot(np.dot(np.linalg.inv(np.dot(np.transpose(X), X)), np.transpose(X)),y)\n",
    "    mse = regression(dataset, cols, betas)\n",
    "    betas = betas.flatten()\n",
    "    return mse,*betas\n"
   ]
  },
  {
   "cell_type": "code",
   "execution_count": 8,
   "metadata": {},
   "outputs": [],
   "source": [
    "def predict(dataset, cols, features):\n",
    "    features.insert(0,1)\n",
    "    betas = np.array(compute_betas(dataset, cols)[1:]).reshape(len(cols)+1,1)\n",
    "    value = np.dot(features,betas)\n",
    "    \n",
    "    return float(value)"
   ]
  },
  {
   "cell_type": "code",
   "execution_count": 9,
   "metadata": {},
   "outputs": [],
   "source": [
    "def random_index_generator(min_val, max_val, seed=42):\n",
    "    \"\"\"\n",
    "    DO NOT MODIFY THIS FUNCTION.\n",
    "    DO NOT CHANGE THE SEED.\n",
    "    This generator picks a random value between min_val and max_val,\n",
    "    seeded by 42.\n",
    "    \"\"\"\n",
    "    random.seed(seed)\n",
    "    while True:\n",
    "        yield random.randrange(min_val, max_val)\n"
   ]
  },
  {
   "cell_type": "code",
   "execution_count": 10,
   "metadata": {},
   "outputs": [],
   "source": [
    "def sgd(dataset, cols, betas, T, eta):\n",
    "    t = 1\n",
    "    idx = random_index_generator(0, len(dataset), seed=42)\n",
    "    while t <= T:\n",
    "        gradient = []\n",
    "        data = dataset[next(idx)]\n",
    "        col_value = []\n",
    "        for i in cols:\n",
    "            col_value.append(data[i])\n",
    "        col_value.insert(0,1)\n",
    "        col_value = np.array(col_value)\n",
    "        for i in range(len(betas)):\n",
    "            gradient.append((np.dot(col_value, betas) - data[0]) * 2 * col_value[i])\n",
    "        for i in range(len(betas)):\n",
    "            betas[i] = betas[i] - eta * gradient[i]\n",
    "        mse = regression(dataset, cols, betas)\n",
    "        print('{} {:.2f}'.format(t,mse), end = ' ')\n",
    "        for beta in betas:\n",
    "            print('{:.2f}'.format(beta), end = ' ')\n",
    "        print('\\n',end = '')\n",
    "        t += 1\n",
    "    return None"
   ]
  },
  {
   "cell_type": "code",
   "execution_count": null,
   "metadata": {},
   "outputs": [],
   "source": []
  }
 ],
 "metadata": {
  "kernelspec": {
   "display_name": "Python 3",
   "language": "python",
   "name": "python3"
  },
  "language_info": {
   "codemirror_mode": {
    "name": "ipython",
    "version": 3
   },
   "file_extension": ".py",
   "mimetype": "text/x-python",
   "name": "python",
   "nbconvert_exporter": "python",
   "pygments_lexer": "ipython3",
   "version": "3.8.5"
  }
 },
 "nbformat": 4,
 "nbformat_minor": 4
}
